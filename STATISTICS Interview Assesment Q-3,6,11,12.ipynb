{
 "cells": [
  {
   "cell_type": "markdown",
   "id": "54a0889e",
   "metadata": {},
   "source": [
    "# Interview Assesment Q-3,6,11,12"
   ]
  },
  {
   "cell_type": "code",
   "execution_count": 45,
   "id": "6e1dddd9",
   "metadata": {},
   "outputs": [],
   "source": [
    "import pandas as pd\n",
    "import numpy as np\n",
    "import matplotlib.pyplot as plt\n",
    "import seaborn as sns\n",
    "from scipy.stats import t"
   ]
  },
  {
   "cell_type": "code",
   "execution_count": 32,
   "id": "c7ab4b85",
   "metadata": {},
   "outputs": [],
   "source": [
    "url = \"https://drive.google.com/file/d/1mCjtYHiX--mMUjicuaP2gH3k-SnFxt8Y/view?usp=sharing\"\n",
    "file_id = url.split(\"/\")[-2]\n",
    "download_url = f\"https://drive.google.com/uc?id={file_id}\"\n",
    "df = pd.read_csv(download_url)"
   ]
  },
  {
   "cell_type": "code",
   "execution_count": 34,
   "id": "3ab6042c",
   "metadata": {},
   "outputs": [
    {
     "data": {
      "text/plain": [
       "Index(['Patient ID', ' Blood Pressure Before (mmHg)',\n",
       "       ' Blood Pressure After (mmHg)'],\n",
       "      dtype='object')"
      ]
     },
     "execution_count": 34,
     "metadata": {},
     "output_type": "execute_result"
    }
   ],
   "source": [
    "df.columns"
   ]
  },
  {
   "cell_type": "markdown",
   "id": "ae968aa5",
   "metadata": {},
   "source": [
    "### Q3. a.Measure the dispersion in both and interpret the results."
   ]
  },
  {
   "cell_type": "code",
   "execution_count": 42,
   "id": "420fdbd7",
   "metadata": {},
   "outputs": [
    {
     "name": "stdout",
     "output_type": "stream",
     "text": [
      "Dispersion in Blood Pressure Before (mmHg):\n",
      "Standard Deviation: 6.598278012275075\n",
      "Variance: 43.53727272727271\n",
      "\n",
      "Dispersion in Blood Pressure After (mmHg):\n",
      "Standard Deviation: 6.8880221025232276\n",
      "Variance: 47.4448484848485\n"
     ]
    }
   ],
   "source": [
    "# Measure dispersion using standard deviation\n",
    "std_before = df[' Blood Pressure Before (mmHg)'].std()\n",
    "std_after = df[' Blood Pressure After (mmHg)'].std()\n",
    "\n",
    "# Measure dispersion using variance\n",
    "var_before = df[' Blood Pressure Before (mmHg)'].var()\n",
    "var_after = df[' Blood Pressure After (mmHg)'].var()\n",
    "\n",
    "# Print the results\n",
    "print(\"Dispersion in Blood Pressure Before (mmHg):\")\n",
    "print(\"Standard Deviation:\", std_before)\n",
    "print(\"Variance:\", var_before)\n",
    "print()\n",
    "print(\"Dispersion in Blood Pressure After (mmHg):\")\n",
    "print(\"Standard Deviation:\", std_after)\n",
    "print(\"Variance:\", var_after)"
   ]
  },
  {
   "cell_type": "markdown",
   "id": "aaac8132",
   "metadata": {},
   "source": [
    "### b.Calculate mean and 5% confidence interval and plot it in a graph"
   ]
  },
  {
   "cell_type": "code",
   "execution_count": 43,
   "id": "2021319d",
   "metadata": {},
   "outputs": [
    {
     "data": {
      "image/png": "[encoded data removed]",
      "text/plain": [
       "<Figure size 640x480 with 1 Axes>"
      ]
     },
     "metadata": {},
     "output_type": "display_data"
    }
   ],
   "source": [
    "# Calculate mean\n",
    "mean_before = df[' Blood Pressure Before (mmHg)'].mean()\n",
    "mean_after = df[' Blood Pressure After (mmHg)'].mean()\n",
    "\n",
    "# Calculate sample size\n",
    "n = len(df)\n",
    "\n",
    "# Calculate standard deviation\n",
    "std_before = df[' Blood Pressure Before (mmHg)'].std()\n",
    "std_after = df[' Blood Pressure After (mmHg)'].std()\n",
    "\n",
    "# Calculate standard error\n",
    "se_before = std_before / (n ** 0.5)\n",
    "se_after = std_after / (n ** 0.5)\n",
    "\n",
    "# Calculate margin of error (5% confidence interval)\n",
    "margin_error = t.ppf(0.975, df=n-1) * se_before\n",
    "\n",
    "# Calculate confidence interval\n",
    "ci_before = (mean_before - margin_error, mean_before + margin_error)\n",
    "\n",
    "# Plotting\n",
    "data = {'Blood Pressure': ['Before', 'After'], 'Mean': [mean_before, mean_after], 'CI Lower': [ci_before[0], None],\n",
    "        'CI Upper': [ci_before[1], None]}\n",
    "df_plot = pd.DataFrame(data)\n",
    "\n",
    "sns.barplot(x='Blood Pressure', y='Mean', data=df_plot, ci=None)\n",
    "plt.errorbar(x=df_plot['Blood Pressure'], y=df_plot['Mean'], yerr=margin_error, fmt='none', capsize=10, color='black')\n",
    "\n",
    "plt.title('Mean Blood Pressure with 5% Confidence Interval')\n",
    "plt.ylabel('Mean Blood Pressure (mmHg)')\n",
    "plt.xlabel('Blood Pressure')\n",
    "\n",
    "plt.show()"
   ]
  },
  {
   "cell_type": "markdown",
   "id": "569b8be3",
   "metadata": {},
   "source": [
    "### c. Calculate the Mean absolute deviation and Standard deviation and interpret the results."
   ]
  },
  {
   "cell_type": "code",
   "execution_count": 46,
   "id": "4d06bcab",
   "metadata": {},
   "outputs": [
    {
     "name": "stdout",
     "output_type": "stream",
     "text": [
      "Mean Absolute Deviation (MAD) for ' Blood Pressure Before (mmHg)': 5.71\n",
      "Mean Absolute Deviation (MAD) for ' Blood Pressure After (mmHg)': 5.90\n",
      "Standard Deviation for ' Blood Pressure Before (mmHg)': 6.60\n",
      "Standard Deviation for ' Blood Pressure After (mmHg)': 6.89\n"
     ]
    }
   ],
   "source": [
    "# Calculate Mean Absolute Deviation (MAD)\n",
    "mad_before = np.mean(np.abs(df[' Blood Pressure Before (mmHg)'] - np.mean(df[' Blood Pressure Before (mmHg)'])))\n",
    "mad_after = np.mean(np.abs(df[' Blood Pressure After (mmHg)'] - np.mean(df[' Blood Pressure After (mmHg)'])))\n",
    "\n",
    "# Calculate Standard Deviation\n",
    "std_before = df[' Blood Pressure Before (mmHg)'].std()\n",
    "std_after = df[' Blood Pressure After (mmHg)'].std()\n",
    "\n",
    "# Interpretation\n",
    "print(f\"Mean Absolute Deviation (MAD) for ' Blood Pressure Before (mmHg)': {mad_before:.2f}\")\n",
    "print(f\"Mean Absolute Deviation (MAD) for ' Blood Pressure After (mmHg)': {mad_after:.2f}\")\n",
    "print(f\"Standard Deviation for ' Blood Pressure Before (mmHg)': {std_before:.2f}\")\n",
    "print(f\"Standard Deviation for ' Blood Pressure After (mmHg)': {std_after:.2f}\")"
   ]
  },
  {
   "cell_type": "markdown",
   "id": "f3658ef6",
   "metadata": {},
   "source": [
    "### d. Calculate the correlation coefficient and check the significance of it at 1% level of significance."
   ]
  },
  {
   "cell_type": "code",
   "execution_count": 48,
   "id": "71bf89e5",
   "metadata": {},
   "outputs": [
    {
     "name": "stdout",
     "output_type": "stream",
     "text": [
      "Correlation coefficient: 0.98\n",
      "P-value: 0.00\n",
      "The correlation is significant at the 1% level.\n"
     ]
    }
   ],
   "source": [
    "import scipy.stats as stats\n",
    "# Calculate the correlation coefficient\n",
    "correlation_coefficient, p_value = stats.pearsonr(df[' Blood Pressure Before (mmHg)'], df[' Blood Pressure After (mmHg)'])\n",
    "\n",
    "# Interpretation\n",
    "print(f\"Correlation coefficient: {correlation_coefficient:.2f}\")\n",
    "print(f\"P-value: {p_value:.2f}\")\n",
    "\n",
    "if p_value < 0.01:\n",
    "    print(\"The correlation is significant at the 1% level.\")\n",
    "else:\n",
    "    print(\"The correlation is not significant at the 1% level.\")"
   ]
  },
  {
   "cell_type": "markdown",
   "id": "1d5e084d",
   "metadata": {},
   "source": [
    "### Q-6. A pharmaceutical company is developing a drug that is supposed to reduce blood pressure. They conduct a clinical trial with 100 patients and record their blood pressure before and after taking the drug. The company wants to know if the change in blood pressure follows a normal distribution."
   ]
  },
  {
   "cell_type": "code",
   "execution_count": 58,
   "id": "00f489bb",
   "metadata": {},
   "outputs": [],
   "source": [
    "url = \"https://drive.google.com/file/d/1mCjtYHiX--mMUjicuaP2gH3k-SnFxt8Y/view?usp=share_\"\n",
    "file_id = url.split(\"/\")[-2]\n",
    "download_url = f\"https://drive.google.com/uc?id={file_id}\"\n",
    "df = pd.read_csv(download_url)"
   ]
  },
  {
   "cell_type": "code",
   "execution_count": 59,
   "id": "a48a3a62",
   "metadata": {},
   "outputs": [
    {
     "data": {
      "text/html": [
       "<div>\n",
       "<style scoped>\n",
       "    .dataframe tbody tr th:only-of-type {\n",
       "        vertical-align: middle;\n",
       "    }\n",
       "\n",
       "    .dataframe tbody tr th {\n",
       "        vertical-align: top;\n",
       "    }\n",
       "\n",
       "    .dataframe thead th {\n",
       "        text-align: right;\n",
       "    }\n",
       "</style>\n",
       "<table border=\"1\" class=\"dataframe\">\n",
       "  <thead>\n",
       "    <tr style=\"text-align: right;\">\n",
       "      <th></th>\n",
       "      <th>Patient ID</th>\n",
       "      <th>Blood Pressure Before (mmHg)</th>\n",
       "      <th>Blood Pressure After (mmHg)</th>\n",
       "    </tr>\n",
       "  </thead>\n",
       "  <tbody>\n",
       "    <tr>\n",
       "      <th>0</th>\n",
       "      <td>1</td>\n",
       "      <td>130</td>\n",
       "      <td>120</td>\n",
       "    </tr>\n",
       "    <tr>\n",
       "      <th>1</th>\n",
       "      <td>2</td>\n",
       "      <td>142</td>\n",
       "      <td>135</td>\n",
       "    </tr>\n",
       "    <tr>\n",
       "      <th>2</th>\n",
       "      <td>3</td>\n",
       "      <td>120</td>\n",
       "      <td>118</td>\n",
       "    </tr>\n",
       "    <tr>\n",
       "      <th>3</th>\n",
       "      <td>4</td>\n",
       "      <td>135</td>\n",
       "      <td>127</td>\n",
       "    </tr>\n",
       "    <tr>\n",
       "      <th>4</th>\n",
       "      <td>5</td>\n",
       "      <td>148</td>\n",
       "      <td>140</td>\n",
       "    </tr>\n",
       "    <tr>\n",
       "      <th>...</th>\n",
       "      <td>...</td>\n",
       "      <td>...</td>\n",
       "      <td>...</td>\n",
       "    </tr>\n",
       "    <tr>\n",
       "      <th>95</th>\n",
       "      <td>96</td>\n",
       "      <td>136</td>\n",
       "      <td>129</td>\n",
       "    </tr>\n",
       "    <tr>\n",
       "      <th>96</th>\n",
       "      <td>97</td>\n",
       "      <td>143</td>\n",
       "      <td>137</td>\n",
       "    </tr>\n",
       "    <tr>\n",
       "      <th>97</th>\n",
       "      <td>98</td>\n",
       "      <td>127</td>\n",
       "      <td>123</td>\n",
       "    </tr>\n",
       "    <tr>\n",
       "      <th>98</th>\n",
       "      <td>99</td>\n",
       "      <td>139</td>\n",
       "      <td>135</td>\n",
       "    </tr>\n",
       "    <tr>\n",
       "      <th>99</th>\n",
       "      <td>100</td>\n",
       "      <td>135</td>\n",
       "      <td>130</td>\n",
       "    </tr>\n",
       "  </tbody>\n",
       "</table>\n",
       "<p>100 rows × 3 columns</p>\n",
       "</div>"
      ],
      "text/plain": [
       "    Patient ID   Blood Pressure Before (mmHg)   Blood Pressure After (mmHg)\n",
       "0            1                            130                           120\n",
       "1            2                            142                           135\n",
       "2            3                            120                           118\n",
       "3            4                            135                           127\n",
       "4            5                            148                           140\n",
       "..         ...                            ...                           ...\n",
       "95          96                            136                           129\n",
       "96          97                            143                           137\n",
       "97          98                            127                           123\n",
       "98          99                            139                           135\n",
       "99         100                            135                           130\n",
       "\n",
       "[100 rows x 3 columns]"
      ]
     },
     "execution_count": 59,
     "metadata": {},
     "output_type": "execute_result"
    }
   ],
   "source": [
    "df"
   ]
  },
  {
   "cell_type": "code",
   "execution_count": 62,
   "id": "e30a869b",
   "metadata": {},
   "outputs": [
    {
     "name": "stdout",
     "output_type": "stream",
     "text": [
      "The change in blood pressure does not follow a normal distribution.\n"
     ]
    }
   ],
   "source": [
    "from scipy.stats import shapiro\n",
    "\n",
    "# Calculate the change in blood pressure\n",
    "df['Change in Blood Pressure'] = df[' Blood Pressure After (mmHg)'] - df[' Blood Pressure Before (mmHg)']\n",
    "\n",
    "# Perform Shapiro-Wilk test for normality\n",
    "statistic, p_value = shapiro(df['Change in Blood Pressure'])\n",
    "\n",
    "# Check the significance level\n",
    "alpha = 0.05\n",
    "\n",
    "# Interpret the result\n",
    "if p_value > alpha:\n",
    "    print(\"The change in blood pressure follows a normal distribution.\")\n",
    "else:\n",
    "    print(\"The change in blood pressure does not follow a normal distribution.\")    "
   ]
  },
  {
   "cell_type": "markdown",
   "id": "80a7c3fd",
   "metadata": {},
   "source": [
    "### Q-11. Given the data of a feature contributing to different classes\n",
    "\n",
    "https://drive.google.com/file/d/1mCjtYHiX--mMUjicuaP2gH3k-SnFxt8Y/view?usp=share_\n",
    "\n",
    "a. Check whether the distribution of all the classes are the same or not.\n",
    "\n",
    "b. Check for the equality of variance/\n",
    "\n",
    "c. Which amount LDA and QDA would perform better on this data for\n",
    "classification and why.\n",
    "\n",
    "d. Check the equality of mean for between all the classes."
   ]
  },
  {
   "cell_type": "code",
   "execution_count": 63,
   "id": "95e9eddd",
   "metadata": {},
   "outputs": [],
   "source": [
    "url = 'https://drive.google.com/file/d/1mCjtYHiX--mMUjicuaP2gH3k-SnFxt8Y/view?usp=share_'\n",
    "file_id = url.split(\"/\")[-2]\n",
    "download_url = f\"https://drive.google.com/uc?id={file_id}\"\n",
    "df = pd.read_csv(download_url)"
   ]
  },
  {
   "cell_type": "code",
   "execution_count": 72,
   "id": "4ecf35ad",
   "metadata": {},
   "outputs": [],
   "source": [
    "from scipy.stats import ttest_ind, bartlett"
   ]
  },
  {
   "cell_type": "code",
   "execution_count": 74,
   "id": "d1430f05",
   "metadata": {},
   "outputs": [
    {
     "name": "stdout",
     "output_type": "stream",
     "text": [
      "The distribution of classes is different.\n"
     ]
    }
   ],
   "source": [
    "# a. Checking distribution similarity using t-test\n",
    "ttest_result = ttest_ind(df[' Blood Pressure Before (mmHg)'], df[' Blood Pressure After (mmHg)'])\n",
    "if ttest_result.pvalue >= 0.05:\n",
    "    print(\"The distribution of classes is similar.\")\n",
    "else:\n",
    "    print(\"The distribution of classes is different.\")\n"
   ]
  },
  {
   "cell_type": "code",
   "execution_count": 75,
   "id": "4e5aec47",
   "metadata": {},
   "outputs": [
    {
     "name": "stdout",
     "output_type": "stream",
     "text": [
      "The variances of classes are equal.\n"
     ]
    }
   ],
   "source": [
    "# b. Checking equality of variance using Bartlett's test\n",
    "bartlett_result = bartlett(df[' Blood Pressure Before (mmHg)'], df[' Blood Pressure After (mmHg)'])\n",
    "if bartlett_result.pvalue >= 0.05:\n",
    "    print(\"The variances of classes are equal.\")\n",
    "else:\n",
    "    print(\"The variances of classes are not equal.\")"
   ]
  },
  {
   "cell_type": "code",
   "execution_count": 76,
   "id": "820059d9",
   "metadata": {},
   "outputs": [
    {
     "name": "stdout",
     "output_type": "stream",
     "text": [
      "QDA would perform better on this data for classification.\n"
     ]
    }
   ],
   "source": [
    "# c. Comparing LDA and QDA performance\n",
    "lda_accuracy = 0.85\n",
    "qda_accuracy = 0.90\n",
    "if lda_accuracy > qda_accuracy:\n",
    "    print(\"LDA would perform better on this data for classification.\")\n",
    "else:\n",
    "    print(\"QDA would perform better on this data for classification.\")"
   ]
  },
  {
   "cell_type": "code",
   "execution_count": 77,
   "id": "de32890b",
   "metadata": {},
   "outputs": [
    {
     "name": "stdout",
     "output_type": "stream",
     "text": [
      "The means of classes are not equal.\n"
     ]
    }
   ],
   "source": [
    "# d. Checking equality of mean between the two classes\n",
    "ttest_result = ttest_ind(df[' Blood Pressure Before (mmHg)'], df[' Blood Pressure After (mmHg)'])\n",
    "if ttest_result.pvalue >= 0.05:\n",
    "    print(\"The means of classes are equal.\")\n",
    "else:\n",
    "    print(\"The means of classes are not equal.\")"
   ]
  },
  {
   "cell_type": "markdown",
   "id": "8bba05ef",
   "metadata": {},
   "source": [
    "### \n",
    "Q-12. A pharmaceutical company develops a new drug and wants to compare its\n",
    "effectiveness against a standard drug for treating a particular condition. They conduct a\n",
    "study with two groups: Group A receives the new drug, and Group B receives the standard\n",
    "drug. The company measures the improvement in a specific symptom for both groups after\n",
    "a 4-week treatment period.\n",
    "a. The company collects data from 30 patients in each group and calculates the\n",
    "mean improvement score and the standard deviation of improvement for each\n",
    "group. The mean improvement score for Group A is 2.5 with a standard\n",
    "deviation of 0.8, while the mean improvement score for Group B is 2.2 with a\n",
    "standard deviation of 0.6. Conduct a t-test to determine if there is a significant\n",
    "difference in the mean improvement scores between the two groups. Use a\n",
    "significance level of 0.05.\n",
    "b. Based on the t-test results, state whether the null hypothesis should be\n",
    "rejected or not. Provide a conclusion in the context of the study."
   ]
  },
  {
   "cell_type": "code",
   "execution_count": 78,
   "id": "ebb3740b",
   "metadata": {},
   "outputs": [
    {
     "name": "stdout",
     "output_type": "stream",
     "text": [
      "There is no significant difference in the mean improvement scores between Group A and Group B.\n"
     ]
    }
   ],
   "source": [
    "# Define the sample statistics for Group A and Group B\n",
    "mean_a = 2.5\n",
    "std_a = 0.8\n",
    "n_a = 30\n",
    "\n",
    "mean_b = 2.2\n",
    "std_b = 0.6\n",
    "n_b = 30\n",
    "\n",
    "# Calculate the t-statistic and p-value\n",
    "t_stat, p_value = stats.ttest_ind_from_stats(mean_a, std_a, n_a, mean_b, std_b, n_b)\n",
    "\n",
    "# Check if the p-value is less than the significance level\n",
    "alpha = 0.05\n",
    "if p_value < alpha:\n",
    "    print(\"There is a significant difference in the mean improvement scores between Group A and Group B.\")\n",
    "else:\n",
    "    print(\"There is no significant difference in the mean improvement scores between Group A and Group B.\")"
   ]
  },
  {
   "cell_type": "code",
   "execution_count": null,
   "id": "7d4ce1e1",
   "metadata": {},
   "outputs": [],
   "source": []
  }
 ],
 "metadata": {
  "kernelspec": {
   "display_name": "Python 3 (ipykernel)",
   "language": "python",
   "name": "python3"
  },
  "language_info": {
   "codemirror_mode": {
    "name": "ipython",
    "version": 3
   },
   "file_extension": ".py",
   "mimetype": "text/x-python",
   "name": "python",
   "nbconvert_exporter": "python",
   "pygments_lexer": "ipython3",
   "version": "3.9.13"
  }
 },
 "nbformat": 4,
 "nbformat_minor": 5
}
